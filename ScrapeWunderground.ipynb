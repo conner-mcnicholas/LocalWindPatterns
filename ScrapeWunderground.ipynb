{
 "cells": [
  {
   "cell_type": "code",
   "execution_count": 1,
   "id": "d2d63407",
   "metadata": {},
   "outputs": [],
   "source": [
    "from urllib.request import urlopen\n",
    "from bs4 import BeautifulSoup\n",
    "import pandas as pd\n",
    "pd.options.mode.chained_assignment = None  # default='warn'\n",
    "from datetime import datetime,date,timedelta\n",
    "import pickle"
   ]
  },
  {
   "cell_type": "code",
   "execution_count": 2,
   "id": "e49c94c1",
   "metadata": {},
   "outputs": [],
   "source": [
    "ordir={\"North\":0.0,\n",
    "    \"NNE\":22.5,\n",
    "    \"NE\": 45.0,\n",
    "    \"ENE\":67.5,\n",
    "    \"East\":90.0,\n",
    "    \"ESE\":112.5,\n",
    "    \"SE\":135.0,\n",
    "    \"SSE\":157.5,\n",
    "    \"South\":180,\n",
    "    \"SSW\":202.5,\n",
    "    \"SW\":225.0,\n",
    "    \"WSW\":247.5,\n",
    "    \"West\":270.0,\n",
    "    \"WNW\":292.5,\n",
    "    \"NW\":315.0,\n",
    "    \"NNW\":337.5}"
   ]
  },
  {
   "cell_type": "code",
   "execution_count": 3,
   "id": "91f419c5",
   "metadata": {},
   "outputs": [],
   "source": [
    "def dailywind(d):\n",
    "    wdate = d\n",
    "    url = f\"https://www.wunderground.com/dashboard/pws/KCASANTA106/table/{wdate}/{wdate}/daily\"\n",
    "    html = urlopen(url)\n",
    "    soup = BeautifulSoup(html)\n",
    "\n",
    "    headers = [th.getText() for th in soup.findAll('thead')[3].findAll('th')]\n",
    "    rows = soup.findAll('tbody')[3].findAll('tr')\n",
    "    hourly_data = [[td.getText() for td in rows[i].findAll('td')] for i in range(len(rows))]\n",
    "\n",
    "    df_weather = pd.DataFrame(hourly_data,columns=headers)\n",
    "    df_wind = df_weather[['Time','Temperature','Wind','Speed','Gust']]\n",
    "    df_wind['Date'] = wdate\n",
    "    df_wind['Orient']= df_wind['Wind'].map(ordir)\n",
    "\n",
    "    df_wind = df_wind[['Date','Time','Temperature','Wind','Orient','Speed','Gust']]\n",
    "    df_wind.columns = ['Date', 'Time','Temp','Wind','Orient', 'Speed', 'Gust']\n",
    "\n",
    "    return df_wind"
   ]
  },
  {
   "cell_type": "code",
   "execution_count": 4,
   "id": "73067373",
   "metadata": {},
   "outputs": [
    {
     "name": "stdout",
     "output_type": "stream",
     "text": [
      "# full days to pull between start date (2020-10-04) and now (2022-10-04): 730\n"
     ]
    }
   ],
   "source": [
    "now = datetime.now().date()\n",
    "sdate= datetime.now().date()-timedelta(days=365*2)\n",
    "datediff = (now-sdate).days\n",
    "print(f\"# full days to pull between start date ({sdate}) and now ({now}): {datediff}\")"
   ]
  },
  {
   "cell_type": "code",
   "execution_count": null,
   "id": "235749a4",
   "metadata": {},
   "outputs": [],
   "source": [
    "nested_dfs=[]\n",
    "for i in range(datediff):\n",
    "    weatherdate = sdate + timedelta(days = i)\n",
    "    nested_dfs.append(dailywind(weatherdate))"
   ]
  },
  {
   "cell_type": "code",
   "execution_count": 6,
   "id": "6f2f5b53",
   "metadata": {},
   "outputs": [
    {
     "name": "stdout",
     "output_type": "stream",
     "text": [
      "interrupted before pulling: 2021-08-22\n",
      "days pulled: 322\n",
      "days remaining: 408\n"
     ]
    }
   ],
   "source": [
    "sdatenew=nested_dfs[-1].Date.iloc[0]+timedelta(days=1)\n",
    "datediffnew=(now-sdatenew).days\n",
    "print(f\"interrupted before pulling: {sdatenew}\")\n",
    "print(f\"days pulled: {len(nested_dfs)}\")\n",
    "print(f\"days remaining: {datediffnew}\")"
   ]
  },
  {
   "cell_type": "code",
   "execution_count": 45,
   "id": "595f4482",
   "metadata": {},
   "outputs": [],
   "source": [
    "for i in range(datediffnew):\n",
    "    weatherdate = sdatenew + timedelta(days = i)\n",
    "    nested_dfs.append(dailywind(weatherdate))"
   ]
  },
  {
   "cell_type": "code",
   "execution_count": 49,
   "id": "a7e014a4",
   "metadata": {},
   "outputs": [],
   "source": [
    "allwind = nested_dfs[0]\n",
    "for i in range(1,len(nested_dfs)):\n",
    "    allwind = pd.concat([allwind,nested_dfs[i]],axis=0)\n",
    "allwind['Speed'] = allwind['Speed'].str[:-5].astype(float)\n",
    "allwind['Gust'][allwind['Gust']=='--'] = '0.0 °mph'\n",
    "allwind['Gust'] = allwind['Gust'].str[:-5].astype(float)\n",
    "allwind['Temp'] = allwind['Temp'].str[:-3].astype(float)\n",
    "allwind['Month'] = pd.DatetimeIndex(allwind['Date']).month_name().str[:3]"
   ]
  },
  {
   "cell_type": "code",
   "execution_count": 62,
   "id": "4af00e01",
   "metadata": {},
   "outputs": [],
   "source": [
    "allwind.to_pickle(f'brommer_raw_{sdate}_{now-timedelta(days=1)}.pkl')"
   ]
  },
  {
   "cell_type": "code",
   "execution_count": 64,
   "id": "8b3dcf7f",
   "metadata": {},
   "outputs": [],
   "source": [
    "allwind.to_csv(f'brommer_raw_{sdate}_{now-timedelta(days=1)}.csv')"
   ]
  }
 ],
 "metadata": {
  "kernelspec": {
   "display_name": "Python 3 (ipykernel)",
   "language": "python",
   "name": "python3"
  },
  "language_info": {
   "codemirror_mode": {
    "name": "ipython",
    "version": 3
   },
   "file_extension": ".py",
   "mimetype": "text/x-python",
   "name": "python",
   "nbconvert_exporter": "python",
   "pygments_lexer": "ipython3",
   "version": "3.9.12"
  }
 },
 "nbformat": 4,
 "nbformat_minor": 5
}
