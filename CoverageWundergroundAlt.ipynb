{
 "cells": [
  {
   "cell_type": "code",
   "execution_count": 1,
   "id": "d2d63407",
   "metadata": {},
   "outputs": [],
   "source": [
    "import pandas as pd\n",
    "pd.options.mode.chained_assignment = None  # default='warn'\n",
    "from datetime import datetime,date,timedelta\n",
    "import pickle"
   ]
  },
  {
   "cell_type": "code",
   "execution_count": 2,
   "id": "cfd8d059",
   "metadata": {},
   "outputs": [],
   "source": [
    "station = 'KCAWATSO86'\n",
    "staname = 'watsonvil'\n",
    "now = datetime.now().date()\n",
    "sdate = datetime(now.year-2,now.month-5,now.day-5).date()\n",
    "datediff = (now-sdate).days"
   ]
  },
  {
   "cell_type": "code",
   "execution_count": 3,
   "id": "3ab0adee",
   "metadata": {},
   "outputs": [],
   "source": [
    "allwind = pd.read_pickle(f'{staname}_raw_{sdate}_{now-timedelta(days=1)}.pkl')"
   ]
  },
  {
   "cell_type": "code",
   "execution_count": 4,
   "id": "179a50d2",
   "metadata": {},
   "outputs": [
    {
     "data": {
      "text/html": [
       "<div>\n",
       "<style scoped>\n",
       "    .dataframe tbody tr th:only-of-type {\n",
       "        vertical-align: middle;\n",
       "    }\n",
       "\n",
       "    .dataframe tbody tr th {\n",
       "        vertical-align: top;\n",
       "    }\n",
       "\n",
       "    .dataframe thead th {\n",
       "        text-align: right;\n",
       "    }\n",
       "</style>\n",
       "<table border=\"1\" class=\"dataframe\">\n",
       "  <thead>\n",
       "    <tr style=\"text-align: right;\">\n",
       "      <th></th>\n",
       "      <th>Date</th>\n",
       "      <th>Time</th>\n",
       "      <th>Season</th>\n",
       "      <th>Month</th>\n",
       "      <th>Daypart</th>\n",
       "      <th>Temp</th>\n",
       "      <th>Wind</th>\n",
       "      <th>Azimuth</th>\n",
       "      <th>Speed</th>\n",
       "      <th>Gust</th>\n",
       "    </tr>\n",
       "  </thead>\n",
       "  <tbody>\n",
       "    <tr>\n",
       "      <th>0</th>\n",
       "      <td>2020-05-25</td>\n",
       "      <td>4:33 PM</td>\n",
       "      <td>Spring</td>\n",
       "      <td>May</td>\n",
       "      <td>Afternoon</td>\n",
       "      <td>91.8</td>\n",
       "      <td>WSW</td>\n",
       "      <td>247.5</td>\n",
       "      <td>0.6</td>\n",
       "      <td>1.1</td>\n",
       "    </tr>\n",
       "    <tr>\n",
       "      <th>1</th>\n",
       "      <td>2020-05-25</td>\n",
       "      <td>4:39 PM</td>\n",
       "      <td>Spring</td>\n",
       "      <td>May</td>\n",
       "      <td>Afternoon</td>\n",
       "      <td>92.3</td>\n",
       "      <td>WSW</td>\n",
       "      <td>247.5</td>\n",
       "      <td>2.8</td>\n",
       "      <td>3.1</td>\n",
       "    </tr>\n",
       "    <tr>\n",
       "      <th>2</th>\n",
       "      <td>2020-05-25</td>\n",
       "      <td>4:44 PM</td>\n",
       "      <td>Spring</td>\n",
       "      <td>May</td>\n",
       "      <td>Afternoon</td>\n",
       "      <td>92.5</td>\n",
       "      <td>WSW</td>\n",
       "      <td>247.5</td>\n",
       "      <td>2.6</td>\n",
       "      <td>3.0</td>\n",
       "    </tr>\n",
       "    <tr>\n",
       "      <th>285</th>\n",
       "      <td>2022-10-25</td>\n",
       "      <td>11:49 PM</td>\n",
       "      <td>Fall</td>\n",
       "      <td>Oct</td>\n",
       "      <td>Overnight</td>\n",
       "      <td>45.5</td>\n",
       "      <td>SSE</td>\n",
       "      <td>157.5</td>\n",
       "      <td>0.0</td>\n",
       "      <td>0.0</td>\n",
       "    </tr>\n",
       "    <tr>\n",
       "      <th>286</th>\n",
       "      <td>2022-10-25</td>\n",
       "      <td>11:54 PM</td>\n",
       "      <td>Fall</td>\n",
       "      <td>Oct</td>\n",
       "      <td>Overnight</td>\n",
       "      <td>46.2</td>\n",
       "      <td>SSE</td>\n",
       "      <td>157.5</td>\n",
       "      <td>0.0</td>\n",
       "      <td>0.0</td>\n",
       "    </tr>\n",
       "    <tr>\n",
       "      <th>287</th>\n",
       "      <td>2022-10-25</td>\n",
       "      <td>11:59 PM</td>\n",
       "      <td>Fall</td>\n",
       "      <td>Oct</td>\n",
       "      <td>Overnight</td>\n",
       "      <td>46.3</td>\n",
       "      <td>SSE</td>\n",
       "      <td>157.5</td>\n",
       "      <td>0.0</td>\n",
       "      <td>0.0</td>\n",
       "    </tr>\n",
       "  </tbody>\n",
       "</table>\n",
       "</div>"
      ],
      "text/plain": [
       "           Date      Time  Season Month    Daypart  Temp Wind  Azimuth  Speed  \\\n",
       "0    2020-05-25   4:33 PM  Spring   May  Afternoon  91.8  WSW    247.5    0.6   \n",
       "1    2020-05-25   4:39 PM  Spring   May  Afternoon  92.3  WSW    247.5    2.8   \n",
       "2    2020-05-25   4:44 PM  Spring   May  Afternoon  92.5  WSW    247.5    2.6   \n",
       "285  2022-10-25  11:49 PM    Fall   Oct  Overnight  45.5  SSE    157.5    0.0   \n",
       "286  2022-10-25  11:54 PM    Fall   Oct  Overnight  46.2  SSE    157.5    0.0   \n",
       "287  2022-10-25  11:59 PM    Fall   Oct  Overnight  46.3  SSE    157.5    0.0   \n",
       "\n",
       "     Gust  \n",
       "0     1.1  \n",
       "1     3.1  \n",
       "2     3.0  \n",
       "285   0.0  \n",
       "286   0.0  \n",
       "287   0.0  "
      ]
     },
     "execution_count": 4,
     "metadata": {},
     "output_type": "execute_result"
    }
   ],
   "source": [
    "pd.concat([allwind[:3],allwind[-3:]]) "
   ]
  },
  {
   "cell_type": "code",
   "execution_count": 6,
   "id": "8b81633e",
   "metadata": {},
   "outputs": [],
   "source": [
    "dfcov=pd.DataFrame(columns=['Date','Records','PctTotal','NoDir','PctNoDir'])\n",
    "fullcov=0\n",
    "for i in range(datediff):\n",
    "    d = sdate+timedelta(days=i)\n",
    "    itvls = len(allwind[allwind['Date']==d])\n",
    "    cov = round(100*itvls/(12*24),1)\n",
    "    nullwcov = (allwind[allwind['Date']==d]['Wind']=='').sum()\n",
    "    if cov == 100.0:\n",
    "        fullcov+=1\n",
    "    if itvls != 0:\n",
    "        pctnullw = round(100*nullwcov/itvls,1)\n",
    "    else:\n",
    "        pctnullw = 0.0\n",
    "    rdata = pd.DataFrame([{'Date':d,'Records':itvls,'PctTotal':cov,'NoDir':nullwcov,'PctNoDir':pctnullw}])\n",
    "    dfcov = pd.concat([dfcov,rdata])"
   ]
  },
  {
   "cell_type": "code",
   "execution_count": 6,
   "id": "753a0281",
   "metadata": {},
   "outputs": [
    {
     "name": "stdout",
     "output_type": "stream",
     "text": [
      "duplicate entries when daylight savings rolls back:\n"
     ]
    },
    {
     "data": {
      "text/html": [
       "<div>\n",
       "<style scoped>\n",
       "    .dataframe tbody tr th:only-of-type {\n",
       "        vertical-align: middle;\n",
       "    }\n",
       "\n",
       "    .dataframe tbody tr th {\n",
       "        vertical-align: top;\n",
       "    }\n",
       "\n",
       "    .dataframe thead th {\n",
       "        text-align: right;\n",
       "    }\n",
       "</style>\n",
       "<table border=\"1\" class=\"dataframe\">\n",
       "  <thead>\n",
       "    <tr style=\"text-align: right;\">\n",
       "      <th></th>\n",
       "      <th>Date</th>\n",
       "      <th>Records</th>\n",
       "      <th>PctTotal</th>\n",
       "      <th>NoDir</th>\n",
       "      <th>PctNoDir</th>\n",
       "    </tr>\n",
       "  </thead>\n",
       "  <tbody>\n",
       "    <tr>\n",
       "      <th>0</th>\n",
       "      <td>2021-11-07</td>\n",
       "      <td>300</td>\n",
       "      <td>104.2</td>\n",
       "      <td>4</td>\n",
       "      <td>1.3</td>\n",
       "    </tr>\n",
       "    <tr>\n",
       "      <th>0</th>\n",
       "      <td>2021-06-01</td>\n",
       "      <td>288</td>\n",
       "      <td>100.0</td>\n",
       "      <td>0</td>\n",
       "      <td>0.0</td>\n",
       "    </tr>\n",
       "    <tr>\n",
       "      <th>0</th>\n",
       "      <td>2021-06-03</td>\n",
       "      <td>288</td>\n",
       "      <td>100.0</td>\n",
       "      <td>0</td>\n",
       "      <td>0.0</td>\n",
       "    </tr>\n",
       "  </tbody>\n",
       "</table>\n",
       "</div>"
      ],
      "text/plain": [
       "         Date Records PctTotal NoDir PctNoDir\n",
       "0  2021-11-07     300    104.2     4      1.3\n",
       "0  2021-06-01     288    100.0     0      0.0\n",
       "0  2021-06-03     288    100.0     0      0.0"
      ]
     },
     "execution_count": 6,
     "metadata": {},
     "output_type": "execute_result"
    }
   ],
   "source": [
    "print('duplicate entries when daylight savings rolls back:')\n",
    "dfcov.sort_values(['PctTotal','PctNoDir'],ascending=[False,True]).head(3)"
   ]
  },
  {
   "cell_type": "code",
   "execution_count": 7,
   "id": "163daf8c",
   "metadata": {},
   "outputs": [
    {
     "name": "stdout",
     "output_type": "stream",
     "text": [
      "2020-11-01 extras:\n",
      "{}\n",
      "\n",
      "2021-11-07 extras:\n",
      "{'1:04 AM': 2, '1:09 AM': 2, '1:14 AM': 2, '1:19 AM': 2, '1:24 AM': 2, '1:29 AM': 2, '1:34 AM': 2, '1:39 AM': 2, '1:44 AM': 2, '1:49 AM': 2, '1:54 AM': 2, '1:59 AM': 2}\n"
     ]
    }
   ],
   "source": [
    "from collections import Counter\n",
    "cdict = Counter(list(allwind[allwind['Date']==date(2020,11,1)].Time))\n",
    "print(\"2020-11-01 extras:\")\n",
    "print({x:count for x,count in cdict.items() if count > 1})\n",
    "cdict2 = Counter(list(allwind[allwind['Date']==date(2021,11,7)].Time))\n",
    "print(\"\\n2021-11-07 extras:\")\n",
    "print({x:count for x,count in cdict2.items() if count > 1})"
   ]
  },
  {
   "cell_type": "code",
   "execution_count": 8,
   "id": "083c40f8",
   "metadata": {},
   "outputs": [
    {
     "name": "stdout",
     "output_type": "stream",
     "text": [
      "Entries from 1AM-2AM are recorded twice due to daylight savings\n"
     ]
    },
    {
     "data": {
      "text/html": [
       "<div>\n",
       "<style scoped>\n",
       "    .dataframe tbody tr th:only-of-type {\n",
       "        vertical-align: middle;\n",
       "    }\n",
       "\n",
       "    .dataframe tbody tr th {\n",
       "        vertical-align: top;\n",
       "    }\n",
       "\n",
       "    .dataframe thead th {\n",
       "        text-align: right;\n",
       "    }\n",
       "</style>\n",
       "<table border=\"1\" class=\"dataframe\">\n",
       "  <thead>\n",
       "    <tr style=\"text-align: right;\">\n",
       "      <th></th>\n",
       "      <th>Date</th>\n",
       "      <th>Time</th>\n",
       "      <th>Temp</th>\n",
       "      <th>Wind</th>\n",
       "      <th>Azimuth</th>\n",
       "      <th>Speed</th>\n",
       "      <th>Gust</th>\n",
       "      <th>Month</th>\n",
       "    </tr>\n",
       "  </thead>\n",
       "  <tbody>\n",
       "  </tbody>\n",
       "</table>\n",
       "</div>"
      ],
      "text/plain": [
       "Empty DataFrame\n",
       "Columns: [Date, Time, Temp, Wind, Azimuth, Speed, Gust, Month]\n",
       "Index: []"
      ]
     },
     "execution_count": 8,
     "metadata": {},
     "output_type": "execute_result"
    }
   ],
   "source": [
    "print('Entries from 1AM-2AM are recorded twice due to daylight savings')\n",
    "allwind[(allwind['Date']==date(2020,11,1)) & (allwind['Time'].str[:3] == '1:0') & (allwind['Time'].str[-2] == 'A')]"
   ]
  },
  {
   "cell_type": "code",
   "execution_count": 9,
   "id": "91f8f488",
   "metadata": {},
   "outputs": [
    {
     "data": {
      "text/html": [
       "<div>\n",
       "<style scoped>\n",
       "    .dataframe tbody tr th:only-of-type {\n",
       "        vertical-align: middle;\n",
       "    }\n",
       "\n",
       "    .dataframe tbody tr th {\n",
       "        vertical-align: top;\n",
       "    }\n",
       "\n",
       "    .dataframe thead th {\n",
       "        text-align: right;\n",
       "    }\n",
       "</style>\n",
       "<table border=\"1\" class=\"dataframe\">\n",
       "  <thead>\n",
       "    <tr style=\"text-align: right;\">\n",
       "      <th></th>\n",
       "      <th>Date</th>\n",
       "      <th>Time</th>\n",
       "      <th>Temp</th>\n",
       "      <th>Wind</th>\n",
       "      <th>Azimuth</th>\n",
       "      <th>Speed</th>\n",
       "      <th>Gust</th>\n",
       "      <th>Month</th>\n",
       "    </tr>\n",
       "  </thead>\n",
       "  <tbody>\n",
       "    <tr>\n",
       "      <th>12</th>\n",
       "      <td>2021-11-07</td>\n",
       "      <td>1:04 AM</td>\n",
       "      <td>56.2</td>\n",
       "      <td>WNW</td>\n",
       "      <td>292.5</td>\n",
       "      <td>2.6</td>\n",
       "      <td>5.2</td>\n",
       "      <td>Nov</td>\n",
       "    </tr>\n",
       "    <tr>\n",
       "      <th>13</th>\n",
       "      <td>2021-11-07</td>\n",
       "      <td>1:09 AM</td>\n",
       "      <td>56.1</td>\n",
       "      <td>WNW</td>\n",
       "      <td>292.5</td>\n",
       "      <td>2.0</td>\n",
       "      <td>3.5</td>\n",
       "      <td>Nov</td>\n",
       "    </tr>\n",
       "    <tr>\n",
       "      <th>24</th>\n",
       "      <td>2021-11-07</td>\n",
       "      <td>1:04 AM</td>\n",
       "      <td>54.8</td>\n",
       "      <td>WNW</td>\n",
       "      <td>292.5</td>\n",
       "      <td>2.1</td>\n",
       "      <td>3.0</td>\n",
       "      <td>Nov</td>\n",
       "    </tr>\n",
       "    <tr>\n",
       "      <th>25</th>\n",
       "      <td>2021-11-07</td>\n",
       "      <td>1:09 AM</td>\n",
       "      <td>54.9</td>\n",
       "      <td>WNW</td>\n",
       "      <td>292.5</td>\n",
       "      <td>2.6</td>\n",
       "      <td>4.8</td>\n",
       "      <td>Nov</td>\n",
       "    </tr>\n",
       "  </tbody>\n",
       "</table>\n",
       "</div>"
      ],
      "text/plain": [
       "          Date     Time  Temp Wind  Azimuth  Speed  Gust Month\n",
       "12  2021-11-07  1:04 AM  56.2  WNW    292.5    2.6   5.2   Nov\n",
       "13  2021-11-07  1:09 AM  56.1  WNW    292.5    2.0   3.5   Nov\n",
       "24  2021-11-07  1:04 AM  54.8  WNW    292.5    2.1   3.0   Nov\n",
       "25  2021-11-07  1:09 AM  54.9  WNW    292.5    2.6   4.8   Nov"
      ]
     },
     "execution_count": 9,
     "metadata": {},
     "output_type": "execute_result"
    }
   ],
   "source": [
    "#using 'startswith' instead of indexing\n",
    "allwind[(allwind['Date']==date(2021,11,7)) & (allwind['Time'].str.startswith('1:0'))& (allwind['Time'].str.endswith('AM')) ]"
   ]
  },
  {
   "cell_type": "code",
   "execution_count": 10,
   "id": "b66f7ff3",
   "metadata": {},
   "outputs": [
    {
     "name": "stdout",
     "output_type": "stream",
     "text": [
      "# days with full coverage of all 5-min intervals: 328 (44.9%)\n"
     ]
    }
   ],
   "source": [
    "print(f\"# days with full coverage of all 5-min intervals: {fullcov} ({round(100*(fullcov/datediff),1)}%)\")"
   ]
  },
  {
   "cell_type": "code",
   "execution_count": 11,
   "id": "621715f2",
   "metadata": {},
   "outputs": [
    {
     "name": "stdout",
     "output_type": "stream",
     "text": [
      "large gap in coverage:\n"
     ]
    },
    {
     "data": {
      "text/html": [
       "<div>\n",
       "<style scoped>\n",
       "    .dataframe tbody tr th:only-of-type {\n",
       "        vertical-align: middle;\n",
       "    }\n",
       "\n",
       "    .dataframe tbody tr th {\n",
       "        vertical-align: top;\n",
       "    }\n",
       "\n",
       "    .dataframe thead th {\n",
       "        text-align: right;\n",
       "    }\n",
       "</style>\n",
       "<table border=\"1\" class=\"dataframe\">\n",
       "  <thead>\n",
       "    <tr style=\"text-align: right;\">\n",
       "      <th></th>\n",
       "      <th>Date</th>\n",
       "      <th>Time</th>\n",
       "      <th>Temp</th>\n",
       "      <th>Wind</th>\n",
       "      <th>Azimuth</th>\n",
       "      <th>Speed</th>\n",
       "      <th>Gust</th>\n",
       "      <th>Month</th>\n",
       "    </tr>\n",
       "  </thead>\n",
       "  <tbody>\n",
       "    <tr>\n",
       "      <th>158</th>\n",
       "      <td>2022-09-21</td>\n",
       "      <td>3:19 PM</td>\n",
       "      <td>68.6</td>\n",
       "      <td>SW</td>\n",
       "      <td>225.0</td>\n",
       "      <td>3.8</td>\n",
       "      <td>8.9</td>\n",
       "      <td>Sep</td>\n",
       "    </tr>\n",
       "    <tr>\n",
       "      <th>159</th>\n",
       "      <td>2022-09-21</td>\n",
       "      <td>7:39 PM</td>\n",
       "      <td>66.7</td>\n",
       "      <td>WSW</td>\n",
       "      <td>247.5</td>\n",
       "      <td>0.1</td>\n",
       "      <td>0.7</td>\n",
       "      <td>Sep</td>\n",
       "    </tr>\n",
       "    <tr>\n",
       "      <th>0</th>\n",
       "      <td>2022-09-22</td>\n",
       "      <td>8:24 AM</td>\n",
       "      <td>55.2</td>\n",
       "      <td>WNW</td>\n",
       "      <td>292.5</td>\n",
       "      <td>0.3</td>\n",
       "      <td>1.5</td>\n",
       "      <td>Sep</td>\n",
       "    </tr>\n",
       "    <tr>\n",
       "      <th>1</th>\n",
       "      <td>2022-09-22</td>\n",
       "      <td>8:29 AM</td>\n",
       "      <td>55.7</td>\n",
       "      <td>WNW</td>\n",
       "      <td>292.5</td>\n",
       "      <td>0.4</td>\n",
       "      <td>1.3</td>\n",
       "      <td>Sep</td>\n",
       "    </tr>\n",
       "  </tbody>\n",
       "</table>\n",
       "</div>"
      ],
      "text/plain": [
       "           Date     Time  Temp Wind  Azimuth  Speed  Gust Month\n",
       "158  2022-09-21  3:19 PM  68.6   SW    225.0    3.8   8.9   Sep\n",
       "159  2022-09-21  7:39 PM  66.7  WSW    247.5    0.1   0.7   Sep\n",
       "0    2022-09-22  8:24 AM  55.2  WNW    292.5    0.3   1.5   Sep\n",
       "1    2022-09-22  8:29 AM  55.7  WNW    292.5    0.4   1.3   Sep"
      ]
     },
     "execution_count": 11,
     "metadata": {},
     "output_type": "execute_result"
    }
   ],
   "source": [
    "print(\"large gap in coverage:\")\n",
    "pd.concat([allwind[allwind['Date']==date(2022, 9, 21)][-2:],allwind[allwind['Date']==date(2022, 9, 22)][:2]]) "
   ]
  },
  {
   "cell_type": "code",
   "execution_count": 12,
   "id": "ef9b417d",
   "metadata": {},
   "outputs": [],
   "source": [
    "dfcov.to_pickle(f'ppoint_raw_coverage_{sdate}_{now-timedelta(days=1)}.pkl')"
   ]
  },
  {
   "cell_type": "code",
   "execution_count": 13,
   "id": "5caf868a",
   "metadata": {},
   "outputs": [],
   "source": [
    "dfcov.to_csv(f'ppoint_raw_coverage_{sdate}_{now-timedelta(days=1)}.csv')"
   ]
  }
 ],
 "metadata": {
  "kernelspec": {
   "display_name": "Python 3 (ipykernel)",
   "language": "python",
   "name": "python3"
  },
  "language_info": {
   "codemirror_mode": {
    "name": "ipython",
    "version": 3
   },
   "file_extension": ".py",
   "mimetype": "text/x-python",
   "name": "python",
   "nbconvert_exporter": "python",
   "pygments_lexer": "ipython3",
   "version": "3.9.12"
  }
 },
 "nbformat": 4,
 "nbformat_minor": 5
}
