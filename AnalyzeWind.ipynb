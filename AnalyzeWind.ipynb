{
 "cells": [
  {
   "cell_type": "code",
   "execution_count": 1,
   "id": "d2d63407",
   "metadata": {},
   "outputs": [],
   "source": [
    "import pandas as pd\n",
    "pd.options.mode.chained_assignment = None  # default='warn'\n",
    "from datetime import datetime,date,timedelta\n",
    "import pickle"
   ]
  },
  {
   "cell_type": "code",
   "execution_count": 8,
   "id": "3ab0adee",
   "metadata": {},
   "outputs": [],
   "source": [
    "allwind = pd.read_pickle('brommer_wind_2020-10-04_2022-10-03.pkl')"
   ]
  },
  {
   "cell_type": "code",
   "execution_count": 9,
   "id": "b5aed750",
   "metadata": {},
   "outputs": [],
   "source": [
    "now = datetime.now().date()\n",
    "sdate= datetime.now().date()-timedelta(days=365*2)\n",
    "datediff = (now-sdate).days"
   ]
  },
  {
   "cell_type": "code",
   "execution_count": 10,
   "id": "179a50d2",
   "metadata": {},
   "outputs": [
    {
     "data": {
      "text/html": [
       "<div>\n",
       "<style scoped>\n",
       "    .dataframe tbody tr th:only-of-type {\n",
       "        vertical-align: middle;\n",
       "    }\n",
       "\n",
       "    .dataframe tbody tr th {\n",
       "        vertical-align: top;\n",
       "    }\n",
       "\n",
       "    .dataframe thead th {\n",
       "        text-align: right;\n",
       "    }\n",
       "</style>\n",
       "<table border=\"1\" class=\"dataframe\">\n",
       "  <thead>\n",
       "    <tr style=\"text-align: right;\">\n",
       "      <th></th>\n",
       "      <th>Date</th>\n",
       "      <th>Time</th>\n",
       "      <th>Temp</th>\n",
       "      <th>Wind</th>\n",
       "      <th>Orient</th>\n",
       "      <th>Speed</th>\n",
       "      <th>Gust</th>\n",
       "    </tr>\n",
       "  </thead>\n",
       "  <tbody>\n",
       "    <tr>\n",
       "      <th>0</th>\n",
       "      <td>2020-10-04</td>\n",
       "      <td>12:04 AM</td>\n",
       "      <td>55.6</td>\n",
       "      <td>East</td>\n",
       "      <td>90.0</td>\n",
       "      <td>0.0</td>\n",
       "      <td>0.0</td>\n",
       "    </tr>\n",
       "    <tr>\n",
       "      <th>1</th>\n",
       "      <td>2020-10-04</td>\n",
       "      <td>12:09 AM</td>\n",
       "      <td>55.4</td>\n",
       "      <td>East</td>\n",
       "      <td>90.0</td>\n",
       "      <td>0.0</td>\n",
       "      <td>0.0</td>\n",
       "    </tr>\n",
       "    <tr>\n",
       "      <th>2</th>\n",
       "      <td>2020-10-04</td>\n",
       "      <td>12:14 AM</td>\n",
       "      <td>55.3</td>\n",
       "      <td>East</td>\n",
       "      <td>90.0</td>\n",
       "      <td>0.0</td>\n",
       "      <td>0.0</td>\n",
       "    </tr>\n",
       "    <tr>\n",
       "      <th>285</th>\n",
       "      <td>2022-10-03</td>\n",
       "      <td>11:49 PM</td>\n",
       "      <td>57.6</td>\n",
       "      <td>West</td>\n",
       "      <td>270.0</td>\n",
       "      <td>0.0</td>\n",
       "      <td>2.0</td>\n",
       "    </tr>\n",
       "    <tr>\n",
       "      <th>286</th>\n",
       "      <td>2022-10-03</td>\n",
       "      <td>11:54 PM</td>\n",
       "      <td>57.4</td>\n",
       "      <td>West</td>\n",
       "      <td>270.0</td>\n",
       "      <td>0.0</td>\n",
       "      <td>2.0</td>\n",
       "    </tr>\n",
       "    <tr>\n",
       "      <th>287</th>\n",
       "      <td>2022-10-03</td>\n",
       "      <td>11:59 PM</td>\n",
       "      <td>57.4</td>\n",
       "      <td>West</td>\n",
       "      <td>270.0</td>\n",
       "      <td>0.0</td>\n",
       "      <td>2.0</td>\n",
       "    </tr>\n",
       "  </tbody>\n",
       "</table>\n",
       "</div>"
      ],
      "text/plain": [
       "           Date      Time  Temp  Wind  Orient  Speed  Gust\n",
       "0    2020-10-04  12:04 AM  55.6  East    90.0    0.0   0.0\n",
       "1    2020-10-04  12:09 AM  55.4  East    90.0    0.0   0.0\n",
       "2    2020-10-04  12:14 AM  55.3  East    90.0    0.0   0.0\n",
       "285  2022-10-03  11:49 PM  57.6  West   270.0    0.0   2.0\n",
       "286  2022-10-03  11:54 PM  57.4  West   270.0    0.0   2.0\n",
       "287  2022-10-03  11:59 PM  57.4  West   270.0    0.0   2.0"
      ]
     },
     "execution_count": 10,
     "metadata": {},
     "output_type": "execute_result"
    }
   ],
   "source": [
    "pd.concat([allwind[:3],allwind[-3:]]) "
   ]
  },
  {
   "cell_type": "code",
   "execution_count": 184,
   "id": "8b81633e",
   "metadata": {},
   "outputs": [],
   "source": [
    "dfcov=pd.DataFrame(columns=['Date','Records','PctTotal','NoDir','PctNoDir'])\n",
    "fullcov=0\n",
    "for i in range(365*2):\n",
    "    d = sdate+timedelta(days=i)\n",
    "    itvls = len(allwind[allwind['Date']==d])\n",
    "    cov = round(100*itvls/(12*24),1)\n",
    "    nullwcov = (allwind[allwind['Date']==d]['Wind']=='').sum()\n",
    "    if cov == 100.0:\n",
    "        fullcov+=1\n",
    "    if itvls != 0:\n",
    "        pctnullw = round(100*nullwcov/itvls,1)\n",
    "    else:\n",
    "        pctnullw = 0.0\n",
    "    rdata = pd.DataFrame([{'Date':d,'Records':itvls,'PctTotal':cov,'NoDir':nullwcov,'PctNoDir':pctnullw}])\n",
    "    dfcov = pd.concat([dfcov,rdata])"
   ]
  },
  {
   "cell_type": "code",
   "execution_count": 98,
   "id": "99f221d1",
   "metadata": {},
   "outputs": [
    {
     "name": "stdout",
     "output_type": "stream",
     "text": [
      "duplicate entries on a couple dates:\n"
     ]
    },
    {
     "data": {
      "text/html": [
       "<div>\n",
       "<style scoped>\n",
       "    .dataframe tbody tr th:only-of-type {\n",
       "        vertical-align: middle;\n",
       "    }\n",
       "\n",
       "    .dataframe tbody tr th {\n",
       "        vertical-align: top;\n",
       "    }\n",
       "\n",
       "    .dataframe thead th {\n",
       "        text-align: right;\n",
       "    }\n",
       "</style>\n",
       "<table border=\"1\" class=\"dataframe\">\n",
       "  <thead>\n",
       "    <tr style=\"text-align: right;\">\n",
       "      <th></th>\n",
       "      <th>Date</th>\n",
       "      <th>Records</th>\n",
       "      <th>PctTotal</th>\n",
       "      <th>NoDir</th>\n",
       "      <th>PctNoDir</th>\n",
       "    </tr>\n",
       "  </thead>\n",
       "  <tbody>\n",
       "    <tr>\n",
       "      <th>0</th>\n",
       "      <td>2020-11-01</td>\n",
       "      <td>300</td>\n",
       "      <td>104.2</td>\n",
       "      <td>0</td>\n",
       "      <td>0.0</td>\n",
       "    </tr>\n",
       "    <tr>\n",
       "      <th>0</th>\n",
       "      <td>2021-11-07</td>\n",
       "      <td>300</td>\n",
       "      <td>104.2</td>\n",
       "      <td>41</td>\n",
       "      <td>13.7</td>\n",
       "    </tr>\n",
       "    <tr>\n",
       "      <th>0</th>\n",
       "      <td>2020-10-04</td>\n",
       "      <td>288</td>\n",
       "      <td>100.0</td>\n",
       "      <td>0</td>\n",
       "      <td>0.0</td>\n",
       "    </tr>\n",
       "  </tbody>\n",
       "</table>\n",
       "</div>"
      ],
      "text/plain": [
       "         Date Records PctTotal NoDir PctNoDir\n",
       "0  2020-11-01     300    104.2     0      0.0\n",
       "0  2021-11-07     300    104.2    41     13.7\n",
       "0  2020-10-04     288    100.0     0      0.0"
      ]
     },
     "execution_count": 98,
     "metadata": {},
     "output_type": "execute_result"
    }
   ],
   "source": [
    "print('duplicate entries on a couple dates:')\n",
    "dfcov.sort_values(['PctTotal','PctNoDir'],ascending=[False,True]).head(3)"
   ]
  },
  {
   "cell_type": "code",
   "execution_count": 183,
   "id": "996260a3",
   "metadata": {},
   "outputs": [
    {
     "name": "stdout",
     "output_type": "stream",
     "text": [
      "2020-11-01 extras:\n",
      "{'1:04 AM': 2, '1:09 AM': 2, '1:14 AM': 2, '1:19 AM': 2, '1:24 AM': 2, '1:29 AM': 2, '1:34 AM': 2, '1:39 AM': 2, '1:44 AM': 2, '1:49 AM': 2, '1:54 AM': 2, '1:59 AM': 2}\n",
      "\n",
      "2021-11-07 extras:\n",
      "{'1:04 AM': 2, '1:09 AM': 2, '1:14 AM': 2, '1:19 AM': 2, '1:24 AM': 2, '1:29 AM': 2, '1:34 AM': 2, '1:39 AM': 2, '1:44 AM': 2, '1:49 AM': 2, '1:54 AM': 2, '1:59 AM': 2}\n"
     ]
    }
   ],
   "source": [
    "from collections import Counter\n",
    "cdict = Counter(list(allwind[allwind['Date']==date(2020,11,1)].Time))\n",
    "print(\"2020-11-01 extras:\")\n",
    "print({x:count for x,count in cdict.items() if count > 1})\n",
    "cdict2 = Counter(list(allwind[allwind['Date']==date(2021,11,7)].Time))\n",
    "print(\"\\n2021-11-07 extras:\")\n",
    "print({x:count for x,count in cdict2.items() if count > 1})"
   ]
  },
  {
   "cell_type": "code",
   "execution_count": 163,
   "id": "5a0a6705",
   "metadata": {},
   "outputs": [
    {
     "name": "stdout",
     "output_type": "stream",
     "text": [
      "Entries from 1AM-2AM are recorded twice, with different readings oddly enough\n"
     ]
    },
    {
     "data": {
      "text/html": [
       "<div>\n",
       "<style scoped>\n",
       "    .dataframe tbody tr th:only-of-type {\n",
       "        vertical-align: middle;\n",
       "    }\n",
       "\n",
       "    .dataframe tbody tr th {\n",
       "        vertical-align: top;\n",
       "    }\n",
       "\n",
       "    .dataframe thead th {\n",
       "        text-align: right;\n",
       "    }\n",
       "</style>\n",
       "<table border=\"1\" class=\"dataframe\">\n",
       "  <thead>\n",
       "    <tr style=\"text-align: right;\">\n",
       "      <th></th>\n",
       "      <th>Date</th>\n",
       "      <th>Time</th>\n",
       "      <th>Temp</th>\n",
       "      <th>Wind</th>\n",
       "      <th>Orient</th>\n",
       "      <th>Speed</th>\n",
       "      <th>Gust</th>\n",
       "    </tr>\n",
       "  </thead>\n",
       "  <tbody>\n",
       "    <tr>\n",
       "      <th>12</th>\n",
       "      <td>2020-11-01</td>\n",
       "      <td>1:04 AM</td>\n",
       "      <td>53.1</td>\n",
       "      <td>East</td>\n",
       "      <td>90.0</td>\n",
       "      <td>0.0</td>\n",
       "      <td>0.0</td>\n",
       "    </tr>\n",
       "    <tr>\n",
       "      <th>13</th>\n",
       "      <td>2020-11-01</td>\n",
       "      <td>1:09 AM</td>\n",
       "      <td>52.9</td>\n",
       "      <td>East</td>\n",
       "      <td>90.0</td>\n",
       "      <td>0.0</td>\n",
       "      <td>0.0</td>\n",
       "    </tr>\n",
       "    <tr>\n",
       "      <th>24</th>\n",
       "      <td>2020-11-01</td>\n",
       "      <td>1:04 AM</td>\n",
       "      <td>51.6</td>\n",
       "      <td>East</td>\n",
       "      <td>90.0</td>\n",
       "      <td>0.0</td>\n",
       "      <td>0.0</td>\n",
       "    </tr>\n",
       "    <tr>\n",
       "      <th>25</th>\n",
       "      <td>2020-11-01</td>\n",
       "      <td>1:09 AM</td>\n",
       "      <td>51.4</td>\n",
       "      <td>East</td>\n",
       "      <td>90.0</td>\n",
       "      <td>0.0</td>\n",
       "      <td>0.0</td>\n",
       "    </tr>\n",
       "  </tbody>\n",
       "</table>\n",
       "</div>"
      ],
      "text/plain": [
       "          Date     Time  Temp  Wind  Orient  Speed  Gust\n",
       "12  2020-11-01  1:04 AM  53.1  East    90.0    0.0   0.0\n",
       "13  2020-11-01  1:09 AM  52.9  East    90.0    0.0   0.0\n",
       "24  2020-11-01  1:04 AM  51.6  East    90.0    0.0   0.0\n",
       "25  2020-11-01  1:09 AM  51.4  East    90.0    0.0   0.0"
      ]
     },
     "execution_count": 163,
     "metadata": {},
     "output_type": "execute_result"
    }
   ],
   "source": [
    "print('Entries from 1AM-2AM are recorded twice, with different readings oddly enough')\n",
    "allwind[(allwind['Date']==date(2020,11,1)) & (allwind['Time'].str[:3] == '1:0') & (allwind['Time'].str[-2] == 'A')]"
   ]
  },
  {
   "cell_type": "code",
   "execution_count": 161,
   "id": "480f2c27",
   "metadata": {},
   "outputs": [
    {
     "data": {
      "text/html": [
       "<div>\n",
       "<style scoped>\n",
       "    .dataframe tbody tr th:only-of-type {\n",
       "        vertical-align: middle;\n",
       "    }\n",
       "\n",
       "    .dataframe tbody tr th {\n",
       "        vertical-align: top;\n",
       "    }\n",
       "\n",
       "    .dataframe thead th {\n",
       "        text-align: right;\n",
       "    }\n",
       "</style>\n",
       "<table border=\"1\" class=\"dataframe\">\n",
       "  <thead>\n",
       "    <tr style=\"text-align: right;\">\n",
       "      <th></th>\n",
       "      <th>Date</th>\n",
       "      <th>Time</th>\n",
       "      <th>Temp</th>\n",
       "      <th>Wind</th>\n",
       "      <th>Orient</th>\n",
       "      <th>Speed</th>\n",
       "      <th>Gust</th>\n",
       "    </tr>\n",
       "  </thead>\n",
       "  <tbody>\n",
       "    <tr>\n",
       "      <th>12</th>\n",
       "      <td>2021-11-07</td>\n",
       "      <td>1:04 AM</td>\n",
       "      <td>56.3</td>\n",
       "      <td>NNW</td>\n",
       "      <td>337.5</td>\n",
       "      <td>3.8</td>\n",
       "      <td>8.0</td>\n",
       "    </tr>\n",
       "    <tr>\n",
       "      <th>13</th>\n",
       "      <td>2021-11-07</td>\n",
       "      <td>1:09 AM</td>\n",
       "      <td>56.2</td>\n",
       "      <td>NNW</td>\n",
       "      <td>337.5</td>\n",
       "      <td>3.1</td>\n",
       "      <td>7.1</td>\n",
       "    </tr>\n",
       "    <tr>\n",
       "      <th>24</th>\n",
       "      <td>2021-11-07</td>\n",
       "      <td>1:04 AM</td>\n",
       "      <td>54.9</td>\n",
       "      <td>NNW</td>\n",
       "      <td>337.5</td>\n",
       "      <td>4.2</td>\n",
       "      <td>8.0</td>\n",
       "    </tr>\n",
       "    <tr>\n",
       "      <th>25</th>\n",
       "      <td>2021-11-07</td>\n",
       "      <td>1:09 AM</td>\n",
       "      <td>55.0</td>\n",
       "      <td>NNW</td>\n",
       "      <td>337.5</td>\n",
       "      <td>4.1</td>\n",
       "      <td>8.0</td>\n",
       "    </tr>\n",
       "  </tbody>\n",
       "</table>\n",
       "</div>"
      ],
      "text/plain": [
       "          Date     Time  Temp Wind  Orient  Speed  Gust\n",
       "12  2021-11-07  1:04 AM  56.3  NNW   337.5    3.8   8.0\n",
       "13  2021-11-07  1:09 AM  56.2  NNW   337.5    3.1   7.1\n",
       "24  2021-11-07  1:04 AM  54.9  NNW   337.5    4.2   8.0\n",
       "25  2021-11-07  1:09 AM  55.0  NNW   337.5    4.1   8.0"
      ]
     },
     "execution_count": 161,
     "metadata": {},
     "output_type": "execute_result"
    }
   ],
   "source": [
    "#using 'startswith' instead of indexing\n",
    "allwind[(allwind['Date']==date(2021,11,7)) & (allwind['Time'].str.startswith('1:0'))& (allwind['Time'].str.endswith('AM')) ]"
   ]
  },
  {
   "cell_type": "code",
   "execution_count": 186,
   "id": "b66f7ff3",
   "metadata": {},
   "outputs": [
    {
     "name": "stdout",
     "output_type": "stream",
     "text": [
      "# days with full coverage of all 5-min intervals: 497 (68.1%)\n"
     ]
    }
   ],
   "source": [
    "print(f\"# days with full coverage of all 5-min intervals: {fullcov} ({round(100*(fullcov/datediff),1)}%)\")"
   ]
  },
  {
   "cell_type": "code",
   "execution_count": 187,
   "id": "621715f2",
   "metadata": {},
   "outputs": [
    {
     "name": "stdout",
     "output_type": "stream",
     "text": [
      "large gap in coverage:\n"
     ]
    },
    {
     "data": {
      "text/html": [
       "<div>\n",
       "<style scoped>\n",
       "    .dataframe tbody tr th:only-of-type {\n",
       "        vertical-align: middle;\n",
       "    }\n",
       "\n",
       "    .dataframe tbody tr th {\n",
       "        vertical-align: top;\n",
       "    }\n",
       "\n",
       "    .dataframe thead th {\n",
       "        text-align: right;\n",
       "    }\n",
       "</style>\n",
       "<table border=\"1\" class=\"dataframe\">\n",
       "  <thead>\n",
       "    <tr style=\"text-align: right;\">\n",
       "      <th></th>\n",
       "      <th>Date</th>\n",
       "      <th>Time</th>\n",
       "      <th>Temp</th>\n",
       "      <th>Wind</th>\n",
       "      <th>Orient</th>\n",
       "      <th>Speed</th>\n",
       "      <th>Gust</th>\n",
       "    </tr>\n",
       "  </thead>\n",
       "  <tbody>\n",
       "    <tr>\n",
       "      <th>157</th>\n",
       "      <td>2022-09-21</td>\n",
       "      <td>3:14 PM</td>\n",
       "      <td>71.9</td>\n",
       "      <td>SW</td>\n",
       "      <td>225.0</td>\n",
       "      <td>4.8</td>\n",
       "      <td>12.0</td>\n",
       "    </tr>\n",
       "    <tr>\n",
       "      <th>158</th>\n",
       "      <td>2022-09-21</td>\n",
       "      <td>3:19 PM</td>\n",
       "      <td>71.5</td>\n",
       "      <td>SSW</td>\n",
       "      <td>202.5</td>\n",
       "      <td>5.3</td>\n",
       "      <td>11.1</td>\n",
       "    </tr>\n",
       "    <tr>\n",
       "      <th>0</th>\n",
       "      <td>2022-09-22</td>\n",
       "      <td>8:24 AM</td>\n",
       "      <td>58.1</td>\n",
       "      <td>NNE</td>\n",
       "      <td>22.5</td>\n",
       "      <td>0.7</td>\n",
       "      <td>2.0</td>\n",
       "    </tr>\n",
       "    <tr>\n",
       "      <th>1</th>\n",
       "      <td>2022-09-22</td>\n",
       "      <td>8:29 AM</td>\n",
       "      <td>58.7</td>\n",
       "      <td>NNE</td>\n",
       "      <td>22.5</td>\n",
       "      <td>0.7</td>\n",
       "      <td>2.0</td>\n",
       "    </tr>\n",
       "  </tbody>\n",
       "</table>\n",
       "</div>"
      ],
      "text/plain": [
       "           Date     Time  Temp Wind  Orient  Speed  Gust\n",
       "157  2022-09-21  3:14 PM  71.9   SW   225.0    4.8  12.0\n",
       "158  2022-09-21  3:19 PM  71.5  SSW   202.5    5.3  11.1\n",
       "0    2022-09-22  8:24 AM  58.1  NNE    22.5    0.7   2.0\n",
       "1    2022-09-22  8:29 AM  58.7  NNE    22.5    0.7   2.0"
      ]
     },
     "execution_count": 187,
     "metadata": {},
     "output_type": "execute_result"
    }
   ],
   "source": [
    "print(\"large gap in coverage:\")\n",
    "pd.concat([allwind[allwind['Date']==date(2022, 9, 21)][-2:],allwind[allwind['Date']==date(2022, 9, 22)][:2]]) "
   ]
  },
  {
   "cell_type": "code",
   "execution_count": null,
   "id": "0c29d124",
   "metadata": {},
   "outputs": [],
   "source": [
    "dfcov.to_pickle(f'brommer_wind_coverage_{sdate}_{now-timedelta(days=1)}.pkl')"
   ]
  },
  {
   "cell_type": "code",
   "execution_count": 190,
   "id": "7afb3367",
   "metadata": {},
   "outputs": [],
   "source": [
    "dfcov.to_csv(f'brommer_wind_coverage_{sdate}_{now-timedelta(days=1)}.csv')"
   ]
  }
 ],
 "metadata": {
  "kernelspec": {
   "display_name": "Python 3 (ipykernel)",
   "language": "python",
   "name": "python3"
  },
  "language_info": {
   "codemirror_mode": {
    "name": "ipython",
    "version": 3
   },
   "file_extension": ".py",
   "mimetype": "text/x-python",
   "name": "python",
   "nbconvert_exporter": "python",
   "pygments_lexer": "ipython3",
   "version": "3.9.12"
  }
 },
 "nbformat": 4,
 "nbformat_minor": 5
}
